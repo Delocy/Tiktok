{
 "cells": [
  {
   "cell_type": "code",
   "execution_count": 7,
   "id": "ce7ad835",
   "metadata": {},
   "outputs": [],
   "source": [
    "import pandas as pd\n",
    "import numpy as np\n",
    "import matplotlib.pyplot as plt\n",
    "import seaborn as sns"
   ]
  },
  {
   "cell_type": "code",
   "execution_count": 8,
   "id": "c7f381d1",
   "metadata": {},
   "outputs": [],
   "source": [
    "data = pd.ExcelFile('dataset/ad_ranking_clean.xlsx')\n",
    "ads = pd.read_excel(data, sheet_name='Ads', header=0)\n",
    "mods = pd.read_excel(data, sheet_name='Mods', header=0)"
   ]
  },
  {
   "cell_type": "code",
   "execution_count": 9,
   "id": "856087bc",
   "metadata": {},
   "outputs": [],
   "source": [
    "mods[\"real_productivity\"] = mods[\"Productivity\"] - mods[\"Utilisation %\"]"
   ]
  },
  {
   "cell_type": "code",
   "execution_count": 10,
   "id": "18f25908",
   "metadata": {},
   "outputs": [
    {
     "data": {
      "text/html": [
       "<div>\n",
       "<style scoped>\n",
       "    .dataframe tbody tr th:only-of-type {\n",
       "        vertical-align: middle;\n",
       "    }\n",
       "\n",
       "    .dataframe tbody tr th {\n",
       "        vertical-align: top;\n",
       "    }\n",
       "\n",
       "    .dataframe thead th {\n",
       "        text-align: right;\n",
       "    }\n",
       "</style>\n",
       "<table border=\"1\" class=\"dataframe\">\n",
       "  <thead>\n",
       "    <tr style=\"text-align: right;\">\n",
       "      <th></th>\n",
       "      <th>moderator</th>\n",
       "      <th>market</th>\n",
       "      <th>Productivity</th>\n",
       "      <th>Utilisation %</th>\n",
       "      <th>handling time</th>\n",
       "      <th>accuracy</th>\n",
       "      <th>real_productivity</th>\n",
       "    </tr>\n",
       "  </thead>\n",
       "  <tbody>\n",
       "    <tr>\n",
       "      <th>0</th>\n",
       "      <td>1686755036370945</td>\n",
       "      <td>[\"RO\"]</td>\n",
       "      <td>174.5600</td>\n",
       "      <td>0.704833</td>\n",
       "      <td>25547</td>\n",
       "      <td>0.959</td>\n",
       "      <td>173.855167</td>\n",
       "    </tr>\n",
       "    <tr>\n",
       "      <th>1</th>\n",
       "      <td>1741913197768705</td>\n",
       "      <td>[\"VN\"]</td>\n",
       "      <td>334.3760</td>\n",
       "      <td>0.819167</td>\n",
       "      <td>50794</td>\n",
       "      <td>1.000</td>\n",
       "      <td>333.556833</td>\n",
       "    </tr>\n",
       "    <tr>\n",
       "      <th>2</th>\n",
       "      <td>1743415203890193</td>\n",
       "      <td>[\"MX\", \"UY\", \"CL\", \"AR\", \"CO\", \"EC\", \"PE\", \"BR\"]</td>\n",
       "      <td>452.2775</td>\n",
       "      <td>0.775474</td>\n",
       "      <td>89626</td>\n",
       "      <td>0.941</td>\n",
       "      <td>451.502026</td>\n",
       "    </tr>\n",
       "    <tr>\n",
       "      <th>3</th>\n",
       "      <td>1710346282427393</td>\n",
       "      <td>[\"PH\"]</td>\n",
       "      <td>612.3125</td>\n",
       "      <td>0.843229</td>\n",
       "      <td>98066</td>\n",
       "      <td>0.887</td>\n",
       "      <td>611.469271</td>\n",
       "    </tr>\n",
       "    <tr>\n",
       "      <th>4</th>\n",
       "      <td>1748544247125010</td>\n",
       "      <td>[\"MX\", \"UY\", \"CO\", \"CL\", \"AR\", \"EC\", \"PE\", \"BR\"]</td>\n",
       "      <td>292.3300</td>\n",
       "      <td>0.678776</td>\n",
       "      <td>80656</td>\n",
       "      <td>0.739</td>\n",
       "      <td>291.651224</td>\n",
       "    </tr>\n",
       "  </tbody>\n",
       "</table>\n",
       "</div>"
      ],
      "text/plain": [
       "          moderator                                            market  \\\n",
       "0  1686755036370945                                            [\"RO\"]   \n",
       "1  1741913197768705                                            [\"VN\"]   \n",
       "2  1743415203890193  [\"MX\", \"UY\", \"CL\", \"AR\", \"CO\", \"EC\", \"PE\", \"BR\"]   \n",
       "3  1710346282427393                                            [\"PH\"]   \n",
       "4  1748544247125010  [\"MX\", \"UY\", \"CO\", \"CL\", \"AR\", \"EC\", \"PE\", \"BR\"]   \n",
       "\n",
       "   Productivity  Utilisation %  handling time   accuracy   real_productivity  \n",
       "0      174.5600       0.704833          25547       0.959         173.855167  \n",
       "1      334.3760       0.819167          50794       1.000         333.556833  \n",
       "2      452.2775       0.775474          89626       0.941         451.502026  \n",
       "3      612.3125       0.843229          98066       0.887         611.469271  \n",
       "4      292.3300       0.678776          80656       0.739         291.651224  "
      ]
     },
     "execution_count": 10,
     "metadata": {},
     "output_type": "execute_result"
    }
   ],
   "source": [
    "mods.head()"
   ]
  },
  {
   "cell_type": "code",
   "execution_count": 11,
   "id": "839a6ccd",
   "metadata": {},
   "outputs": [],
   "source": [
    "mods.rename(columns={\" accuracy \": \"accuracy\"}, inplace=True)"
   ]
  },
  {
   "cell_type": "code",
   "execution_count": 12,
   "id": "bf167897",
   "metadata": {},
   "outputs": [],
   "source": [
    "mods = mods[mods[\"accuracy\"] != \"-\"]\n",
    "mods = mods[mods[\"accuracy\"] != '                 -  ']\n",
    "\n",
    "# Remove rows with NaN values in the \"accuracy\" column\n",
    "mods.dropna(subset=[\"accuracy\"], inplace=True)\n",
    "\n",
    "mods.reset_index(drop=True, inplace=True)"
   ]
  },
  {
   "cell_type": "code",
   "execution_count": 13,
   "id": "70d937f5",
   "metadata": {},
   "outputs": [],
   "source": [
    "Weight_Real_Productivity = 0.4\n",
    "Weight_Accuracy = 0.45\n",
    "Weight_Handling_Time = 0.15\n",
    "\n",
    "mods[\"score\"] = (Weight_Real_Productivity * mods[\"real_productivity\"]) + (Weight_Accuracy * mods[\"accuracy\"]) / (Weight_Handling_Time * mods[\"handling time\"])"
   ]
  },
  {
   "cell_type": "code",
   "execution_count": 14,
   "id": "fabdb3c0",
   "metadata": {},
   "outputs": [
    {
     "data": {
      "text/plain": [
       "0        69.542179\n",
       "1       133.422792\n",
       "2       180.600842\n",
       "3       244.587735\n",
       "4       116.660517\n",
       "           ...    \n",
       "1270    109.028418\n",
       "1271     72.025845\n",
       "1272    216.587687\n",
       "1273    128.046823\n",
       "1274    112.966133\n",
       "Name: score, Length: 1275, dtype: float64"
      ]
     },
     "execution_count": 14,
     "metadata": {},
     "output_type": "execute_result"
    }
   ],
   "source": [
    "mods[\"score\"]"
   ]
  },
  {
   "cell_type": "code",
   "execution_count": 15,
   "id": "5eb484c5",
   "metadata": {},
   "outputs": [],
   "source": [
    "min_score = mods[\"score\"].min()\n",
    "max_score = mods[\"score\"].max()\n",
    "\n",
    "# Apply Min-Max scaling to the \"Score\" column\n",
    "mods[\"normalized_score\"] = (mods[\"score\"] - min_score) / (max_score - min_score)\n",
    "\n",
    "# Display the DataFrame with the normalized \"Score\" column\n",
    "mods[\"normalized_score\"]\n",
    "mods.to_excel(\"mods_score.xlsx\")"
   ]
  },
  {
   "cell_type": "code",
   "execution_count": 16,
   "id": "7da94adc",
   "metadata": {},
   "outputs": [
    {
     "data": {
      "image/png": "[encoded data removed]",
      "text/plain": [
       "<Figure size 640x480 with 1 Axes>"
      ]
     },
     "metadata": {},
     "output_type": "display_data"
    }
   ],
   "source": [
    "plt.hist(mods[\"normalized_score\"], bins=50, edgecolor='k')\n",
    "plt.xlabel(\"score\")\n",
    "plt.ylabel(\"Frequency\")\n",
    "plt.title(\"Histogram of Score\")\n",
    "plt.grid(True)\n",
    "\n",
    "# Show the histogram\n",
    "plt.show()"
   ]
  },
  {
   "cell_type": "code",
   "execution_count": 17,
   "id": "05d65986",
   "metadata": {},
   "outputs": [],
   "source": [
    "max_score = mods[\"score\"].max()\n",
    "\n",
    "# Find the row(s) where the maximum value occurs\n",
    "max_score_rows = mods[mods[\"score\"] == max_score]"
   ]
  },
  {
   "cell_type": "code",
   "execution_count": 18,
   "id": "9db4b980",
   "metadata": {},
   "outputs": [
    {
     "data": {
      "text/html": [
       "<div>\n",
       "<style scoped>\n",
       "    .dataframe tbody tr th:only-of-type {\n",
       "        vertical-align: middle;\n",
       "    }\n",
       "\n",
       "    .dataframe tbody tr th {\n",
       "        vertical-align: top;\n",
       "    }\n",
       "\n",
       "    .dataframe thead th {\n",
       "        text-align: right;\n",
       "    }\n",
       "</style>\n",
       "<table border=\"1\" class=\"dataframe\">\n",
       "  <thead>\n",
       "    <tr style=\"text-align: right;\">\n",
       "      <th></th>\n",
       "      <th>moderator</th>\n",
       "      <th>market</th>\n",
       "      <th>Productivity</th>\n",
       "      <th>Utilisation %</th>\n",
       "      <th>handling time</th>\n",
       "      <th>accuracy</th>\n",
       "      <th>real_productivity</th>\n",
       "      <th>score</th>\n",
       "      <th>normalized_score</th>\n",
       "    </tr>\n",
       "  </thead>\n",
       "  <tbody>\n",
       "    <tr>\n",
       "      <th>200</th>\n",
       "      <td>6073125</td>\n",
       "      <td>[\"JP\"]</td>\n",
       "      <td>1323.355</td>\n",
       "      <td>0.844198</td>\n",
       "      <td>98155</td>\n",
       "      <td>0.911</td>\n",
       "      <td>1322.510802</td>\n",
       "      <td>529.004349</td>\n",
       "      <td>1.0</td>\n",
       "    </tr>\n",
       "  </tbody>\n",
       "</table>\n",
       "</div>"
      ],
      "text/plain": [
       "     moderator  market  Productivity  Utilisation %  handling time  accuracy  \\\n",
       "200    6073125  [\"JP\"]      1323.355       0.844198          98155     0.911   \n",
       "\n",
       "     real_productivity       score  normalized_score  \n",
       "200        1322.510802  529.004349               1.0  "
      ]
     },
     "execution_count": 18,
     "metadata": {},
     "output_type": "execute_result"
    }
   ],
   "source": [
    "max_score_rows"
   ]
  }
 ],
 "metadata": {
  "kernelspec": {
   "display_name": "Python 3 (ipykernel)",
   "language": "python",
   "name": "python3"
  },
  "language_info": {
   "codemirror_mode": {
    "name": "ipython",
    "version": 3
   },
   "file_extension": ".py",
   "mimetype": "text/x-python",
   "name": "python",
   "nbconvert_exporter": "python",
   "pygments_lexer": "ipython3",
   "version": "3.11.0"
  }
 },
 "nbformat": 4,
 "nbformat_minor": 5
}
